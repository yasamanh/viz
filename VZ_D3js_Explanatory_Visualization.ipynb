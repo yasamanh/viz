{
 "cells": [
  {
   "cell_type": "code",
   "execution_count": 1,
   "metadata": {
    "collapsed": false,
    "deletable": true,
    "editable": true
   },
   "outputs": [],
   "source": [
    "%matplotlib inline\n",
    "import matplotlib\n",
    "import seaborn as sns\n",
    "matplotlib.rcParams['savefig.dpi'] = 144"
   ]
  },
  {
   "cell_type": "code",
   "execution_count": 2,
   "metadata": {
    "collapsed": true,
    "deletable": true,
    "editable": true
   },
   "outputs": [],
   "source": [
    "import matplotlib.pyplot as plt\n",
    "import pandas as pd\n",
    "import numpy as np"
   ]
  },
  {
   "cell_type": "markdown",
   "metadata": {
    "deletable": true,
    "editable": true
   },
   "source": [
    "# Explanatory Visualization with D3\n",
    "<!-- requirement: projects/babyname -->\n",
    "<!-- requirement: projects/d3-example-ridership -->\n",
    "## Overview\n",
    "\n",
    "D3 is useful for creating beautiful, interactive, and immediately clear visualizations that highlight exactly what you want the viewer to get out of the visualization. Instead of exploratory visualization power, D3 is a very useful **\"explanatory\"** visualization tool."
   ]
  },
  {
   "cell_type": "markdown",
   "metadata": {
    "deletable": true,
    "editable": true
   },
   "source": [
    "## Motivating Example\n",
    "Let's look at a relatively simple standalone D3 graphic which demonstrates the main principles of D3.\n",
    "\n",
    "[Click here for the example](projects/d3-example-ridership/d3-example.html). \n",
    "\n",
    "\n",
    "Inspect this example and its source code with your browser's developer tools."
   ]
  },
  {
   "cell_type": "markdown",
   "metadata": {
    "deletable": true,
    "editable": true
   },
   "source": [
    "## Key Concepts\n",
    "\n",
    "The key concepts of D3 are:\n",
    "* [Selections](https://bost.ocks.org/mike/selection/)\n",
    "* [Method chaining](https://bost.ocks.org/mike/bar/#chaining)\n",
    "* [Data join](https://bost.ocks.org/mike/join/)\n",
    "\n",
    "In javascript, you manipulate elements one at a time. On the other hand, in D3, you manipulate **selections** or groups of elements, using **method chaining**:\n",
    "```javascript\n",
    "// select some DOM elements and apply methods with chaining\n",
    "var svg = d3.select(\"body\").append(\"svg\")\n",
    "            .attr(\"width\", width + margin.left + margin.right)\n",
    "            .attr(\"height\", height + margin.top + margin.bottom)\n",
    "\n",
    "```\n",
    "\n",
    "When adding the actual data, you tell D3 what you want, not how to do it, using a **data join.**\n",
    "\n",
    "``` javascript\n",
    "// data join: initialize the bar elements by \"selecting\" all of them\n",
    "// then join a data point to each using enter()\n",
    "svg.selectAll(\"bar\")\n",
    "    .data(data)\n",
    "    .enter().append(\"rect\")\n",
    "```"
   ]
  },
  {
   "cell_type": "markdown",
   "metadata": {
    "collapsed": true,
    "deletable": true,
    "editable": true
   },
   "source": [
    "## Example: A Static Line Graph"
   ]
  },
  {
   "cell_type": "markdown",
   "metadata": {
    "deletable": true,
    "editable": true
   },
   "source": [
    "In this section, we'll show you how to do things in D3 that you're doing in pandas.  First, run the following command from the command line.  This downloads data from the Social Security Administration giving baby names going back to 1884:\n",
    "\n",
    "``` bash\n",
    "python projects/babyname/src/save_babynames_data.py\n",
    "```\n",
    "\n",
    "Once this has run (it takes 30 seconds or so), check that you have 2 new CSV files, with:\n",
    "\n",
    "``` bash\n",
    "ls -l projects/babyname/data/*.csv\n",
    "```\n",
    "\n",
    "First, we're going to do this in pandas."
   ]
  },
  {
   "cell_type": "code",
   "execution_count": null,
   "metadata": {
    "collapsed": false,
    "deletable": true,
    "editable": true
   },
   "outputs": [],
   "source": [
    "import pandas as pd\n",
    "# read in\n",
    "birthnames = pd.read_csv(\"projects/babyname/data/birthnames.csv\")\n",
    "birthnames.head()"
   ]
  },
  {
   "cell_type": "markdown",
   "metadata": {
    "collapsed": true,
    "deletable": true,
    "editable": true
   },
   "source": [
    "We're now going to plot a few pairs of data."
   ]
  },
  {
   "cell_type": "code",
   "execution_count": null,
   "metadata": {
    "collapsed": false,
    "deletable": true,
    "editable": true
   },
   "outputs": [],
   "source": [
    "from matplotlib import pylab as plt\n",
    "\n",
    "boys = birthnames[birthnames.sex == 'M']\n",
    "girls = birthnames[birthnames.sex == 'F']\n",
    "\n",
    "def plot_name_frac(sex, name):\n",
    "    series = boys[boys.name == name] if sex == 'M' else girls[girls.name == name]\n",
    "    try:\n",
    "        series.sort_values(by='year').plot(x='year', y='births', label=name)\n",
    "    except TypeError:\n",
    "        pass\n",
    "\n",
    "plt.figure()\n",
    "plot_name_frac('M', 'John')\n",
    "plot_name_frac('M', 'Jonathan')\n",
    "plt.xlabel(\"Year\")\n",
    "plt.ylabel(\"Births\")\n",
    "plt.legend(loc='lower right')"
   ]
  },
  {
   "cell_type": "markdown",
   "metadata": {
    "deletable": true,
    "editable": true
   },
   "source": [
    "We can do the same thing in d3.\n",
    "\n",
    "**Check out the final output:\n",
    "[John versus Jonathan in d3](projects/babyname/name_pairs.html).**\n",
    "\n",
    "Open the file in a text editor to see the full code.\n",
    "\n",
    "There are three main parts to this code:\n",
    "\n",
    "1.  The first part is the HTML tag which indicates where the chart will go.\n",
    "\n",
    "    ``` html\n",
    "    <div id=\"chart\"><svg></svg></div>\n",
    "    ```\n",
    "\n",
    "2.  The second two parts are the JavaScript.  First we need to load the data.  \n",
    "\n",
    "    ``` javascript\n",
    "    d3.csv(\"data/birthnames_top_100.csv\", function(error, data) {\n",
    "        // do something with data\n",
    "    })\n",
    "    ```\n",
    "\n",
    "    This is an asynchronous call to JavaScript.  That means the call returns immediately to execute the next line in the script.  When the file `data/birthnames_top_100.csv` is downloaded, the callback function (the anonymous function `function(error, data) { ... }` is then called with `data` representing the data that was loaded.  Hence, we must execute all our code in this callback.\n",
    "\n",
    "    A brief note: `data/birthnames_top_100.csv` is actually returned via HTTP (point your browser to [birthnames_top_100.csv](projects/babyname/data/birthnames_top_100.csv) if you don't believe me).  This means that this file could be any csv file on the internet and it could be an API response generated dynamically by a server.  In our case, it happens to be a static file you generated at the beginning of this tutorial.  The server that powers this notebook is translating the HTTP request to fetching the corresponding file from disk.\n",
    "\n",
    "3.  The code that generates the graph is here:\n",
    "\n",
    "    ```javascript\n",
    "    function bindAndRender(myData, maxBirths) {\n",
    "        nv.addGraph(function() {\n",
    "            chart = nv.models.lineChart()\n",
    "                        .x(function(d) { return d.year })\n",
    "                        .y(function(d) { return d.births })\n",
    "                        .margin({left: 100})\n",
    "                        .useInteractiveGuideline(true)\n",
    "                        .transitionDuration(350)\n",
    "                        .showLegend(true)\n",
    "                        .showYAxis(true)\n",
    "                        .showXAxis(true)\n",
    "                        .forceY([0, maxBirths]);\n",
    "\n",
    "          chart.xAxis.axisLabel('Year');\n",
    "\n",
    "          chart.yAxis.axisLabel(\"Births\");\n",
    "\n",
    "          d3.select('#chart svg')    //Select the <svg> element for the chart.\n",
    "              .datum(myData)         //Populate the <svg> element with chart myData...\n",
    "              .call(chart);          //Finally, render the chart!\n",
    "      });\n",
    "    };\n",
    "    ```\n",
    "    \n",
    "    This is actually using a library called `nvd3` which encapsulates a lot of the very basic functionality that `d3` offers.  Basically, `chart` specifies a bunch of rules for how to draw the data and `d3.select` binds (associates) the data with the html element set by the jQuery selector `'#chart svg'`.  This code demonstrates a few nifty aspects of JavaScript:\n",
    "    - **Chaining:** `nv.models.lineChart()` returns a `chart` object.  Calling the method `.x` modifies it and returns the new modified instance of the object.  Calling the method `.y` ...\n",
    "    - **Callbacks:** notice that both `.x` and `.y` require a function.  This function, when given an instance that will be bound to it (`d`), returns the attribute to set on the x and y axes.  The object `chart` is actually a function, which is called via the `.call` method by the selection `d3.select` with the data bound by the call to `.datum`.  Finally, the function `addGraph` takes a callback itself.\n",
    "    - **jQuery selectors:** Recall that \"#chart svg\" selects an html element with `id=\"chart\"` and an `svg` tag inside.\n",
    "    - **Global versus local context:** notice that while the typical variable assignment pattern is\n",
    "    \n",
    "        ```javascript\n",
    "        var chart = ...\n",
    "        ```\n",
    "     in here, we omit the `var`.  The `var` places the variable in the local context but here we want it in the global context, where we can use it again outside of this function (see below).\n",
    "    \n",
    "4.   Dynamic resizing.  The function `bindAndRender` is called when the page loads to bind (associate) the data with the chart.  Once this is done, all we have to do is reinvoke `.call(chart)` to redraw the chart.  This is done via a call-back associated with window resizing.  That is, the following line ensures that every time the window is resized, we issue another draw command:\n",
    "\n",
    "    ```javascript\n",
    "\t\twindow.addEventListener('resize', function(event){\n",
    "\t\t\td3.select('#chart svg')\n",
    "                .call(chart);\n",
    "\t\t});\n",
    "    ```\n",
    "\n",
    "    Notice that we can call `chart` here, which was left in the global context by the function `bindAndRender`.\n",
    "\n",
    "**Exercise:** On the webpage in the above link, use `Cmd+Option+i` and click the console tab to enter the interactive JavaScript console in your browser.  Paste in these lines:\n",
    "```javascript\n",
    "d3.csv(\"data/birthnames_top_100.csv\", function(error, data) {\n",
    "    rawData = data;\n",
    "})\n",
    "```\n",
    "Type `rawData` into the console.  Again, because we didn't use `var`, the variable `rawData` is placed in the global context.  Follow the data manipulation steps in the source code line by line (you can view the source code on your local machine).  The code uses a small but powerful library called [underscore.js](http://underscorejs.org/) which is imported as the symbol \"`_`\" (which is a valid variable name in JavaScript).\n",
    "\n",
    "**Question:** In the above line of code, we save our data into `rawData`, a variable in our outer scope.  Why does this work in the console but would likely not have the intended side effect in a script?  Hint: this has to do with asynchronicity."
   ]
  },
  {
   "cell_type": "markdown",
   "metadata": {
    "deletable": true,
    "editable": true
   },
   "source": [
    "**Exercise:** Look at the plot of presidential first names below.  You can tell there's a spike in baby names around the time they are elected.  Reproduce this visualization in `d3`.  Highlight the portion of the data when they were president.\n",
    "\n",
    "**Action Item:** Read through this introductory example by [Brock](http://bost.ocks.org/mike/bar/) and the online version of the [O'Reilly Book](http://alignedleft.com/tutorials/d3/)"
   ]
  },
  {
   "cell_type": "code",
   "execution_count": null,
   "metadata": {
    "collapsed": false,
    "deletable": true,
    "editable": true
   },
   "outputs": [],
   "source": [
    "# There's a spike in the popularity of presidential first names\n",
    "# when they are elected\n",
    "\n",
    "plt.figure()\n",
    "plot_name_frac('M', 'Woodrow')\n",
    "plot_name_frac('M', 'Warren')\n",
    "plot_name_frac('M', 'Calvin')\n",
    "plot_name_frac('M', 'Herbert')\n",
    "plot_name_frac('M', 'Franklin')\n",
    "plot_name_frac('M', 'Dwight')\n",
    "plot_name_frac('M', 'Lyndon')\n",
    "plot_name_frac('M', 'Barack')\n",
    "plt.yscale('log')\n",
    "plt.legend(loc='lower left')"
   ]
  },
  {
   "cell_type": "markdown",
   "metadata": {
    "deletable": true,
    "editable": true
   },
   "source": [
    "### Resources\n",
    "\n",
    "There are many D3 tutorials online. Here are a two relevant links:\n",
    "- [Stack Overflow - D3 Documentation (beta)](http://stackoverflow.com/documentation/d3.js/topics)\n",
    "- [D3 Tutorials Wiki](https://github.com/d3/d3/wiki/Tutorials)\n",
    "\n",
    "\n",
    "The boilerplate `nvd3` library is only useful for certain, static charts. Never fear, though, because there exists a plethora of other libraries that cover the boilerplate for a variety of charts, while still offering flexibility by being built on top of D3.\n",
    "\n",
    "- [C3.js](http://c3js.org/)\n",
    "- [Rickshaw](http://code.shutterstock.com/rickshaw/tutorial/introduction.html) - another popular time series library.\n",
    "- [JSNetworkX](http://felix-kling.de/JSNetworkX/index.html) - NetworkX for JavaScript!\n",
    "- [DataMaps](http://datamaps.github.io/) - for maps\n",
    "- [Pyxley](https://github.com/stitchfix/pyxley/tree/master/examples/metricsgraphics) is a wrapper with strong Python/Pandas support.\n",
    "\n",
    "And of course, there are plenty of charting libraries outside of the D3 ecosystem, too."
   ]
  },
  {
   "cell_type": "markdown",
   "metadata": {
    "deletable": true,
    "editable": true
   },
   "source": [
    "*Copyright &copy; 2016 The Data Incubator.  All rights reserved.*"
   ]
  }
 ],
 "metadata": {
  "kernelspec": {
   "display_name": "Python 2",
   "language": "python",
   "name": "python2"
  },
  "language_info": {
   "codemirror_mode": {
    "name": "ipython",
    "version": 2
   },
   "file_extension": ".py",
   "mimetype": "text/x-python",
   "name": "python",
   "nbconvert_exporter": "python",
   "pygments_lexer": "ipython2",
   "version": "2.7.13"
  }
 },
 "nbformat": 4,
 "nbformat_minor": 1
}
