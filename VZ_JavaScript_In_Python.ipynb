{
 "cells": [
  {
   "cell_type": "code",
   "execution_count": null,
   "metadata": {
    "collapsed": true
   },
   "outputs": [],
   "source": [
    "%matplotlib inline\n",
    "import matplotlib\n",
    "import seaborn as sns\n",
    "matplotlib.rcParams['savefig.dpi'] = 144"
   ]
  },
  {
   "cell_type": "markdown",
   "metadata": {},
   "source": [
    "# JS Visualization in Python\n",
    "\n",
    "Along the spectrum of libraries ranging from pure D3.js to high level Python packages like Pandas, there are a number of JavaScript wrappers that attempt to provide the best JS visualization functionality for use with Python code and data. Usually, this comes at the expense of customizability and low-level control.\n",
    "\n",
    "This notebook will demo a popular mapping library called Folium, which wraps around Leaflet for interactive mapping functionality. Other Pyhthon visualization libraries also support JavaScript, including:\n",
    "\n",
    "* [Bokeh](http://bokeh.pydata.org/en/latest/docs/user_guide/interaction/callbacks.html#userguide-interaction-actions-widget-callbacks)\n",
    "* [Plotly](https://plot.ly/python/#chart-events)"
   ]
  },
  {
   "cell_type": "markdown",
   "metadata": {},
   "source": [
    "## JS Callbacks in Bokeh\n",
    "\n",
    "Examples below are taken from the official doc:\n",
    "http://bokeh.pydata.org/en/latest/docs/user_guide/interaction/callbacks.html"
   ]
  },
  {
   "cell_type": "code",
   "execution_count": null,
   "metadata": {
    "collapsed": false
   },
   "outputs": [],
   "source": [
    "from bokeh.layouts import column\n",
    "from bokeh.models import *\n",
    "from bokeh.plotting import Figure, output_file, show\n",
    "from bokeh.io import output_notebook, reset_output\n",
    "from random import random\n",
    "\n",
    "reset_output()\n",
    "output_notebook()"
   ]
  },
  {
   "cell_type": "markdown",
   "metadata": {},
   "source": [
    "### Widget callbacks"
   ]
  },
  {
   "cell_type": "code",
   "execution_count": null,
   "metadata": {
    "collapsed": false
   },
   "outputs": [],
   "source": [
    "x = [x*0.005 for x in range(0, 200)]\n",
    "y = x\n",
    "\n",
    "source = ColumnDataSource(data=dict(x=x, y=y))\n",
    "\n",
    "plot = Figure(plot_width=400, plot_height=400)\n",
    "plot.line('x', 'y', source=source, line_width=3, line_alpha=0.6)\n",
    "\n",
    "callback = CustomJS(args=dict(source=source), code=\"\"\"\n",
    "    var data = source.data;\n",
    "    var f = cb_obj.value\n",
    "    x = data['x']\n",
    "    y = data['y']\n",
    "    for (i = 0; i < x.length; i++) {\n",
    "        y[i] = Math.pow(x[i], f)\n",
    "    }\n",
    "    source.trigger('change');\n",
    "\"\"\")\n",
    "\n",
    "slider = Slider(start=0.1, end=4, value=1, step=.1, title=\"power\")\n",
    "# slider = Slider(start=0.1, end=4, value=1, step=.1, title=\"power\", callback=callback)\n",
    "slider.js_on_change('value', callback)\n",
    "\n",
    "layout = column(slider, plot)\n",
    "\n",
    "show(layout)"
   ]
  },
  {
   "cell_type": "markdown",
   "metadata": {},
   "source": [
    "### Tool callbacks"
   ]
  },
  {
   "cell_type": "code",
   "execution_count": null,
   "metadata": {
    "collapsed": false
   },
   "outputs": [],
   "source": [
    "source = ColumnDataSource(data=dict(x=[], y=[], width=[], height=[]))\n",
    "\n",
    "callback = CustomJS(args=dict(source=source), code=\"\"\"\n",
    "        // get data source from Callback args\n",
    "        var data = source.data;\n",
    "\n",
    "        /// get BoxSelectTool dimensions from cb_data parameter of Callback\n",
    "        var geometry = cb_data['geometry'];\n",
    "\n",
    "        /// calculate Rect attributes\n",
    "        var width = geometry['x1'] - geometry['x0'];\n",
    "        var height = geometry['y1'] - geometry['y0'];\n",
    "        var x = geometry['x0'] + width/2;\n",
    "        var y = geometry['y0'] + height/2;\n",
    "\n",
    "        /// update data source with new Rect attributes\n",
    "        data['x'].push(x);\n",
    "        data['y'].push(y);\n",
    "        data['width'].push(width);\n",
    "        data['height'].push(height);\n",
    "\n",
    "        // trigger update of data source\n",
    "        source.trigger('change');\n",
    "    \"\"\")\n",
    "\n",
    "box_select = BoxSelectTool(callback=callback)\n",
    "\n",
    "p = Figure(plot_width=400,\n",
    "            plot_height=400,\n",
    "            tools=[box_select, \"reset\"],  # Note this syntax\n",
    "            title=\"Select Below\",\n",
    "            x_range=Range1d(start=0.0, end=1.0),\n",
    "            y_range=Range1d(start=0.0, end=1.0))\n",
    "\n",
    "rect = Rect(x='x',\n",
    "            y='y',\n",
    "            width='width',\n",
    "            height='height',\n",
    "            fill_alpha=0.3,\n",
    "            fill_color='#009933')\n",
    "\n",
    "p.add_glyph(source, rect, selection_glyph=rect, nonselection_glyph=rect)\n",
    "show(p)"
   ]
  },
  {
   "cell_type": "markdown",
   "metadata": {},
   "source": [
    "**Question**: How would you allow the user to erase the glyphs?"
   ]
  },
  {
   "cell_type": "code",
   "execution_count": null,
   "metadata": {
    "collapsed": false
   },
   "outputs": [],
   "source": [
    "x = [random() for x in range(500)]\n",
    "y = [random() for y in range(500)]\n",
    "color = [\"navy\"] * len(x)\n",
    "\n",
    "s = ColumnDataSource(data=dict(x=x, y=y, color=color))\n",
    "p = Figure(plot_width=400, plot_height=400, tools=\"lasso_select, reset\", title=\"Select Here\")\n",
    "p.circle('x', 'y', color='color', size=8, source=s, alpha=0.4)\n",
    "\n",
    "s2 = ColumnDataSource(data=dict(x=[0, 1], ym=[0.5, 0.5]))\n",
    "p.line(x='x', y='ym', color=\"orange\", line_width=5, alpha=0.6, source=s2)\n",
    "\n",
    "s.callback = CustomJS(args=dict(s2=s2), code=\"\"\"\n",
    "        var inds = cb_obj.selected['1d'].indices;\n",
    "        var d = cb_obj.data;\n",
    "        var ym = 0\n",
    "\n",
    "        if (inds.length == 0) { return; }\n",
    "\n",
    "        for (i = 0; i < d['color'].length; i++) {\n",
    "            d['color'][i] = \"navy\"\n",
    "        }\n",
    "        for (i = 0; i < inds.length; i++) {\n",
    "            d['color'][inds[i]] = \"firebrick\"\n",
    "            ym += d['y'][inds[i]]\n",
    "        }\n",
    "\n",
    "        ym /= inds.length\n",
    "        s2.data['ym'] = [ym, ym]\n",
    "\n",
    "        cb_obj.trigger('change');\n",
    "        s2.trigger('change');\n",
    "    \"\"\")\n",
    "\n",
    "show(p)"
   ]
  },
  {
   "cell_type": "code",
   "execution_count": null,
   "metadata": {
    "collapsed": false
   },
   "outputs": [],
   "source": [
    "p = Figure(plot_width=400, plot_height=400,\n",
    "           tools=\"tap\", title=\"Click the Dots\")\n",
    "\n",
    "source = ColumnDataSource(data=dict(\n",
    "    x=[1, 2, 3, 4, 5],\n",
    "    y=[2, 5, 8, 2, 7],\n",
    "    color=[\"navy\", \"orange\", \"olive\", \"firebrick\", \"gold\"]\n",
    "    ))\n",
    "\n",
    "p.circle('x', 'y', color='color', size=20, source=source)\n",
    "\n",
    "url = \"http://www.colors.commutercreative.com/@color/\"\n",
    "taptool = p.select(type=TapTool)\n",
    "taptool.callback = OpenURL(url=url)\n",
    "\n",
    "show(p)"
   ]
  },
  {
   "cell_type": "markdown",
   "metadata": {},
   "source": [
    "## Folium\n",
    "\n",
    "GitHub: https://github.com/python-visualization/folium\n",
    "\n",
    "Doc: https://folium.readthedocs.io/en/latest/"
   ]
  },
  {
   "cell_type": "code",
   "execution_count": null,
   "metadata": {
    "collapsed": false
   },
   "outputs": [],
   "source": [
    "import folium\n",
    "map = folium.Map(location=[38.9071923, -77.0368707])\n",
    "map"
   ]
  },
  {
   "cell_type": "code",
   "execution_count": null,
   "metadata": {
    "collapsed": false
   },
   "outputs": [],
   "source": [
    "import geocoder\n",
    "location = 'King Arthur\\'s Seat'\n",
    "loc = geocoder.google(location)\n",
    "loc.latlng"
   ]
  },
  {
   "cell_type": "code",
   "execution_count": null,
   "metadata": {
    "collapsed": false
   },
   "outputs": [],
   "source": [
    "map = folium.Map(location=loc.latlng, zoom_start=15)\n",
    "folium.Marker(loc.latlng, popup=location).add_to(map)\n",
    "#folium.CircleMarker(loc.latlng, popup=location, radius=15, color='#3186cc', fill_color='#3186cc').add_to(map)\n",
    "map"
   ]
  },
  {
   "cell_type": "markdown",
   "metadata": {
    "collapsed": true
   },
   "source": [
    "**Exercise**: You can add markers to the map programmatically. Try using requests to get lat/long data from an API or adding the location of tweets as they come in."
   ]
  },
  {
   "cell_type": "code",
   "execution_count": null,
   "metadata": {
    "collapsed": false
   },
   "outputs": [],
   "source": [
    "# Extract HTML for embedding\n",
    "# map.save('map.html')"
   ]
  },
  {
   "cell_type": "markdown",
   "metadata": {},
   "source": [
    "*Copyright &copy; 2017 The Data Incubator.  All rights reserved.*"
   ]
  }
 ],
 "metadata": {
  "kernelspec": {
   "display_name": "Python 2",
   "language": "python",
   "name": "python2"
  },
  "language_info": {
   "codemirror_mode": {
    "name": "ipython",
    "version": 2
   },
   "file_extension": ".py",
   "mimetype": "text/x-python",
   "name": "python",
   "nbconvert_exporter": "python",
   "pygments_lexer": "ipython2",
   "version": "2.7.13"
  }
 },
 "nbformat": 4,
 "nbformat_minor": 2
}
