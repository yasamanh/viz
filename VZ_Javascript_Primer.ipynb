{
 "cells": [
  {
   "cell_type": "code",
   "execution_count": null,
   "metadata": {},
   "outputs": [],
   "source": [
    "%matplotlib inline\n",
    "import matplotlib\n",
    "import seaborn as sns\n",
    "matplotlib.rcParams['savefig.dpi'] = 144"
   ]
  },
  {
   "cell_type": "markdown",
   "metadata": {},
   "source": [
    "# A Javascript Primer\n",
    "\n",
    "If you're making interactive visualizations for the web, you'll almost certainly need to get your hands dirty with Javascript at some point. This notebook hopes to give you a working knowledge of the language and its vicissitudes so you can go forth and write code on the World Wide Web."
   ]
  },
  {
   "cell_type": "code",
   "execution_count": null,
   "metadata": {
    "collapsed": false
   },
   "outputs": [],
   "source": [
    "# a library we use to allow for nicely embedded HTML/CSS/JS\n",
    "import ihtml"
   ]
  },
  {
   "cell_type": "markdown",
   "metadata": {},
   "source": [
    "## Basic syntax"
   ]
  },
  {
   "cell_type": "markdown",
   "metadata": {},
   "source": [
    "You'll want to open up the web-based JS console to follow along with these examples. Note that the JS console is a great place to try out writing JS code.\n",
    "\n",
    "For some common tasks, we've opted to show a few language constructs that have the same effect. When writing code, pick one and stick to it. However, it's useful to have a vague idea for some of these constructs when reading code that others have written."
   ]
  },
  {
   "cell_type": "code",
   "execution_count": null,
   "metadata": {
    "collapsed": true
   },
   "outputs": [],
   "source": [
    "%%javascript\n",
    "\n",
    "//a comment in JS\n",
    "\n",
    "//declaring a variable, arrays, array access\n",
    "var x = 2;\n",
    "var xArray = [2, 3, 4];\n",
    "console.log(xArray);\n",
    "var string = \"hello\";\n",
    "var stringConcat = string + \", world\";\n",
    "console.log(stringConcat);\n",
    "if(xArray[0] == x){\n",
    "    console.log(\"x == xArray[0]\");\n",
    "}"
   ]
  },
  {
   "cell_type": "markdown",
   "metadata": {},
   "source": [
    "You can clear the console in chrome with ctrl + L , or the circular \"do not enter\" button in the top left corner."
   ]
  },
  {
   "cell_type": "code",
   "execution_count": null,
   "metadata": {
    "collapsed": false
   },
   "outputs": [],
   "source": [
    "%%javascript\n",
    "\n",
    "// standard function definition\n",
    "function concatString(string1, string2){\n",
    "  console.log(string1 + \" \" + string2);\n",
    "  return string1 + \" \" + string2;\n",
    "}\n",
    "var result = concatString(\"Hey\", \"you\");\n",
    "if(result == \"Hey you\"){\n",
    "    console.log(\"Return value was Hey you\");\n",
    "}\n",
    "\n",
    "// we can also declare functions with this syntax\n",
    "var concatString2 = function(string1, string2) {\n",
    "    console.log(string1 + \" -- \" + string2);\n",
    "    return string1 + \" -- \" + string2;\n",
    "}\n",
    "var result2 = concatString2(\"Bye\", \"you\");"
   ]
  },
  {
   "cell_type": "code",
   "execution_count": null,
   "metadata": {
    "collapsed": false
   },
   "outputs": [],
   "source": [
    "%%javascript\n",
    "\n",
    "var xArray = [2, 3, 4];\n",
    "\n",
    "//standard for loop\n",
    "for(var i=0; i < xArray.length; i++){\n",
    "    console.log(xArray[i]);\n",
    "}\n",
    "console.log(\"======\");\n",
    "\n",
    "// you'll see this in newer JS, and JQuery, more and more frequently\n",
    "// note the anonymous function we pass in\n",
    "// BEWARE: not all list-like objects in JS support forEach...\n",
    "xArray.forEach(function(el){\n",
    "    console.log(el);\n",
    "})\n",
    "\n",
    "\n",
    "console.log(\"======\");\n",
    "\n",
    "//question: what is i?\n",
    "xArray.forEach(function(el, i){\n",
    "    console.log(el + \" -- \" + i);\n",
    "})\n",
    "\n",
    "console.log(\"======\");\n",
    "\n",
    "// console.log can take an arbitrary number of elements...\n",
    "console.log(\"arg1 here \", \"then arg2 is concatenated, \", \"and similarly for arg3...\")\n",
    "\n",
    "// question: can you explain the output here?\n",
    "xArray.forEach(console.log)"
   ]
  },
  {
   "cell_type": "markdown",
   "metadata": {},
   "source": [
    "## Basic DOM Manipulation\n",
    "\n",
    "As a language, JavaScript has object-oriented features. In particular, the [DOM](https://en.wikipedia.org/wiki/Document_Object_Model) (Document Object Model) is accessible to us via the global `document` object. We can both get state from, and set the state of, elements in the DOM via this object.\n",
    "\n",
    "You can learn more about the DOM API [here](http://www.w3.org/DOM/DOMTR), but we wouldn't recommend doing this, as libraries such as JQuery and D3.js make manipulating the DOM much more convenient than what we'll see below."
   ]
  },
  {
   "cell_type": "code",
   "execution_count": null,
   "metadata": {
    "collapsed": false
   },
   "outputs": [],
   "source": [
    "%%ihtml\n",
    "<!DOCTYPE html>\n",
    "<html>\n",
    "  <head>\n",
    "    <script>\n",
    "      function changeGreeting(){\n",
    "        //this returns a list of DOM objects corresponding to P tags\n",
    "        var pTags = document.getElementsByTagName(\"p\");\n",
    "        //question: how many elements are in this list?\n",
    "        var greeting = pTags[0];\n",
    "        // we can use innerHTML to get...\n",
    "        var greetingText = greeting.innerHTML;\n",
    "          \n",
    "        // ... and set values\n",
    "        greeting.innerHTML = greetingText.replace(\"hello\", \"goodbye\");\n",
    "      }\n",
    "      // in 2.5 seconds, call this function\n",
    "      setTimeout(changeGreeting, 2500);\n",
    "    </script>\n",
    "  </head>\n",
    "  <body>\n",
    "    <p>\n",
    "      This paragraph says hello.\n",
    "    </p>\n",
    "  </body>\n",
    "</html>"
   ]
  },
  {
   "cell_type": "code",
   "execution_count": null,
   "metadata": {
    "collapsed": false
   },
   "outputs": [],
   "source": [
    "%%ihtml\n",
    "<!DOCTYPE html>\n",
    "<html>\n",
    "  <head>\n",
    "    <script>\n",
    "      function changeColor(){\n",
    "        var pTags = document.getElementsByTagName(\"p\");\n",
    "        for(var i=0; i < pTags.length; i++){\n",
    "            // we can set CSS, note how\n",
    "            pTags[i].style.setProperty(\"color\", \"blue\");\n",
    "        }\n",
    "      }\n",
    "      setTimeout(changeColor, 2500);\n",
    "    </script>\n",
    "  </head>\n",
    "  <body>\n",
    "    <p>\n",
    "      This paragraph says hello.\n",
    "    </p>\n",
    "    <p>\n",
    "      This paragraph does not say hello.\n",
    "    </p>    \n",
    "    <p>\n",
    "      This paragraph does not say anything.\n",
    "    </p>\n",
    "  </body>\n",
    "</html>"
   ]
  },
  {
   "cell_type": "markdown",
   "metadata": {},
   "source": [
    "## Event-Driven Programming and Callbacks\n",
    "\n",
    "The biggest hurdle to get over when writing and understanding JS code is the notion of callbacks and asynchronous programming. The idea is that we want to wait for an event (a user click, an HTTP request) to complete before executing a particular function. If you've seen event listeners for frontend user interfaces, this is a similar idea. This is a sensible model of computation for JS to employ because of its frontend use case (we don't know when people will click on things, but want to respond when they do)... but it can be hard to understand the first time around.\n",
    "\n",
    "Back to the console for these first few examples:"
   ]
  },
  {
   "cell_type": "code",
   "execution_count": null,
   "metadata": {
    "collapsed": true
   },
   "outputs": [],
   "source": [
    "%%javascript\n",
    "\n",
    "// in 1s (1000ms), call this function\n",
    "setTimeout(function(){console.log(\"Called!\")}, 1000);\n",
    "\n",
    "//this doesn't need to be anonymous, and this helps clean up your code\n",
    "//this will fire 1 second later than the previous function\n",
    "function logCalled(){\n",
    "    console.log(\"Called!\");\n",
    "}\n",
    "setTimeout(logCalled, 2000);"
   ]
  },
  {
   "cell_type": "code",
   "execution_count": null,
   "metadata": {
    "collapsed": false
   },
   "outputs": [],
   "source": [
    "%%javascript\n",
    "\n",
    "function logCalled(){\n",
    "    console.log(\"Called!\");\n",
    "}\n",
    "\n",
    "// every 1s, call this function. get the ID to cancel later.\n",
    "var intervalId = setInterval(logCalled, 1000);\n",
    "\n",
    "// note the variable scoping we take advantage of here\n",
    "function cancelInterval(){\n",
    "    clearInterval(intervalId);\n",
    "}\n",
    "\n",
    "// question: how many times will the above interval happen?\n",
    "setTimeout(cancelInterval, 5000);"
   ]
  },
  {
   "cell_type": "markdown",
   "metadata": {},
   "source": [
    "### Event Listeners\n",
    "When we start using the DOM API, we can make things happen when users click, too.\n",
    "\n",
    "Note that we moved the `<script>` tag below the `<body>`. This is because of the way web browsers parse / execute Javascript that they find in the DOM - they run things line-by-line, much like Python. If we had left the `<script>` tag above the `<button>` tag, `document.getElementById(\"clickButton\")` would not be able to find the button. JQuery and external libraries help fix this issue, but you'll likely run into it in your own JS coding."
   ]
  },
  {
   "cell_type": "code",
   "execution_count": null,
   "metadata": {
    "collapsed": false
   },
   "outputs": [],
   "source": [
    "%%ihtml\n",
    "<!DOCTYPE html>\n",
    "<html>\n",
    "  <head>\n",
    "  </head>\n",
    "  <body>\n",
    "    <button id=\"clickButton\">Click Me</button>\n",
    "  </body>\n",
    "  <script>\n",
    "    function buttonClicked(){\n",
    "      //try to use alert as little as possible\n",
    "      alert(\"The button was clicked!\");\n",
    "    }\n",
    "    document.getElementById(\"clickButton\").addEventListener(\"click\", buttonClicked)\n",
    "  </script>\n",
    "</html>"
   ]
  },
  {
   "cell_type": "markdown",
   "metadata": {},
   "source": [
    "### Slightly more advanced\n",
    "\n",
    "There is no notion of a blocking \"sleep\" call in javascript. So to (for example) have a message print out at a rate of 1 character / second...\n",
    "\n",
    "Here's how we would do this synchronously, in python."
   ]
  },
  {
   "cell_type": "code",
   "execution_count": null,
   "metadata": {
    "collapsed": false
   },
   "outputs": [],
   "source": [
    "from __future__ import print_function\n",
    "import time\n",
    "\n",
    "message = \"hello\"\n",
    "for char in message:\n",
    "    # a \"blocking\" sleep call\n",
    "    # execution pauses for 1 second each time\n",
    "    time.sleep(1)\n",
    "    print(char, end=\"\")"
   ]
  },
  {
   "cell_type": "markdown",
   "metadata": {},
   "source": [
    "Now, Javascript's version of similar functionality..."
   ]
  },
  {
   "cell_type": "code",
   "execution_count": null,
   "metadata": {
    "collapsed": false
   },
   "outputs": [],
   "source": [
    "%%javascript\n",
    "\n",
    "// now, asynchronously...\n",
    "// this is turning into what we call \"spaghetti code\"\n",
    "function printAndContinue(remainingString){\n",
    "    if(remainingString){\n",
    "        return function(){\n",
    "            console.log(remainingString[0]);\n",
    "            setTimeout(printAndContinue(remainingString.substring(1)), 1000);\n",
    "        }\n",
    "    }\n",
    "    else {\n",
    "        return function(){};\n",
    "    }\n",
    "}\n",
    "printAndContinue(\"hello\")();"
   ]
  },
  {
   "cell_type": "markdown",
   "metadata": {},
   "source": [
    "Now imagine taking the above and wiring it up with the DOM maniuplation API, to make characters or words slowly appear on-screen. It gets pretty messy, fast. Again, this is why JS has a thriving library ecosystem! Let's take a look at a few."
   ]
  },
  {
   "cell_type": "markdown",
   "metadata": {},
   "source": [
    "## A few important libraries and symbols they introduce"
   ]
  },
  {
   "cell_type": "markdown",
   "metadata": {},
   "source": [
    "### Underscore.js - the `_` you'll see in code\n",
    "[Underscore.js](http://underscorejs.org/) lets us write nice functional code all the time! As we've seen, Javascript likes anonymous functions, so functional programming constructs are a natural extension of the language (and are being integrated into future JS releases).\n",
    "\n",
    "Whenever you see an `_` in javascript code, it's likely because someone is using this library.\n",
    "\n",
    "In the example below, also note that we include an external library with the `<script>` tag."
   ]
  },
  {
   "cell_type": "code",
   "execution_count": null,
   "metadata": {
    "collapsed": false
   },
   "outputs": [],
   "source": [
    "%%ihtml\n",
    "<!DOCTYPE html>\n",
    "<html>\n",
    "  <head>\n",
    "    <script type=\"text/javascript\" src=\"http://underscorejs.org/underscore-min.js\"></script>\n",
    "    <script>\n",
    "      function changeColor(){\n",
    "        var pTags = document.getElementsByTagName(\"p\");\n",
    "        //pTags is one of those list-like things that doesn't support forEach...\n",
    "        function changeTagColor(pTag){\n",
    "            pTag.style.setProperty(\"color\", \"blue\");\n",
    "        }\n",
    "        //so we can use underscore.js\n",
    "        _.each(pTags, changeTagColor)\n",
    "      }\n",
    "      // in 2.5 seconds, call this\n",
    "      setTimeout(changeColor, 2500);\n",
    "    </script>\n",
    "  </head>\n",
    "  <body>\n",
    "    <p>\n",
    "      This paragraph says hello.\n",
    "    </p>\n",
    "    <p>\n",
    "      This paragraph does not say hello.\n",
    "    </p>    \n",
    "    <p>\n",
    "      This paragraph does not say anything.\n",
    "    </p>\n",
    "  </body>\n",
    "</html>"
   ]
  },
  {
   "cell_type": "markdown",
   "metadata": {
    "collapsed": true
   },
   "source": [
    "### JQuery - the infamous \\$\n",
    "\n",
    "Whenever you see something that looks like this `$(function()...` , you'll know that you're dealing with [JQuery](https://jquery.com/). It takes the DOM API and wraps it in something that's much easier to use and more natural. Sometimes it's introduced to budding web developers - especially those with minimal coding experience - before the rest of JavaScript.\n",
    "\n",
    "The typical JQuery code snippet looks as follows:\n",
    "```javascript\n",
    "$(\"#css_selector_here\").action(...);\n",
    "```\n",
    "The first part - `$(\"#css_selector_here\")` functions much like the `document.getElementById` function from the DOM API - but uses CSS selectors instead, so is much cleaner. Once we've selected something, the [JQuery API](http://api.jquery.com/) has a long list of actions we can take on that selection (e.g. change the CSS, add / manipulate text, etc.)"
   ]
  },
  {
   "cell_type": "code",
   "execution_count": null,
   "metadata": {
    "collapsed": false
   },
   "outputs": [],
   "source": [
    "%%ihtml\n",
    "<!DOCTYPE html>\n",
    "<html>\n",
    "  <head>\n",
    "    <script src=\"https://ajax.googleapis.com/ajax/libs/jquery/3.1.1/jquery.min.js\"></script>\n",
    "    <script>\n",
    "      function changeColor(){\n",
    "        //unlike the DOM API, JQuery list-likes get a forEach function...\n",
    "        //... but it's called \"each\"\n",
    "        $(\"p\").each(function(){\n",
    "          //'this' refers to a different P tag each time this function is called. \n",
    "          //weird, but how JQuery does things\n",
    "          $(this).css(\"color\", \"blue\");\n",
    "        })\n",
    "      }\n",
    "    \n",
    "      //the JQuery API is extensive, so even better than the above...\n",
    "      function changeColor2(){\n",
    "        //applied to every element that matches the selector\n",
    "        $(\"p\").css(\"color\", \"red\");\n",
    "      }\n",
    "     \n",
    "      // $(function... waits until the entire HTML file has loaded,\n",
    "      // so we avoid the problem from the event listener example above\n",
    "      $(function(){\n",
    "        setTimeout(changeColor, 2500);\n",
    "        setTimeout(changeColor2, 5000);\n",
    "        // oh look, we can use CSS selectors to select elements!\n",
    "        $(\"#clickButton\").click(function(){\n",
    "          alert(\"button was clicked\");\n",
    "        })\n",
    "      });\n",
    "    </script>\n",
    "  </head>\n",
    "  <body>\n",
    "    <p>\n",
    "      This paragraph says hello.\n",
    "    </p>\n",
    "    <p>\n",
    "      This paragraph does not say hello.\n",
    "    </p>    \n",
    "    <p>\n",
    "      This paragraph does not say anything.\n",
    "    </p>\n",
    "    <button id=\"clickButton\">Click me!</button>\n",
    "  </body>\n",
    "</html>"
   ]
  },
  {
   "cell_type": "code",
   "execution_count": null,
   "metadata": {
    "collapsed": true
   },
   "outputs": [],
   "source": []
  },
  {
   "cell_type": "markdown",
   "metadata": {},
   "source": [
    "*Copyright &copy; 2017 The Data Incubator.  All rights reserved.*"
   ]
  }
 ],
 "metadata": {
  "kernelspec": {
   "display_name": "Python 2",
   "language": "python",
   "name": "python2"
  },
  "language_info": {
   "codemirror_mode": {
    "name": "ipython",
    "version": 2
   },
   "file_extension": ".py",
   "mimetype": "text/x-python",
   "name": "python",
   "nbconvert_exporter": "python",
   "pygments_lexer": "ipython2",
   "version": "2.7.12"
  }
 },
 "nbformat": 4,
 "nbformat_minor": 0
}
