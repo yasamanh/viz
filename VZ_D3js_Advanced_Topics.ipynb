{
 "cells": [
  {
   "cell_type": "code",
   "execution_count": null,
   "metadata": {
    "collapsed": false,
    "deletable": true,
    "editable": true
   },
   "outputs": [],
   "source": [
    "%matplotlib inline\n",
    "import matplotlib\n",
    "import seaborn as sns\n",
    "matplotlib.rcParams['savefig.dpi'] = 144"
   ]
  },
  {
   "cell_type": "markdown",
   "metadata": {
    "deletable": true,
    "editable": true
   },
   "source": [
    "# Advanced D3\n",
    "<!-- requirement: small_data/Charm_City_Circulator_Ridership.csv -->\n",
    "<!-- requirement: projects/babyname -->\n",
    "<!-- requirement: small_data/Charm_City_Circulator_Headways.csv -->\n",
    "\n",
    "In this notebook, we use D3 to:\n",
    "* build an interactive chart, purely with D3\n",
    "* integrate Angular.js with D3 to build an interactive Bar chart\n",
    "* show how to live querying a backend using D3 and AJAX calls\n",
    "\n",
    "This is actually a notebook on pure D3. Packages like NVD3 allow for a quicker and smoother introduction to D3, which is presented elsewhere. Writing applications solely with D3 is more involved. In this notebook, we systematically proceed through a full D3 example.\n",
    "\n",
    "We will build a simple scatterplot, and then customize it by coloring the dots, adding axes and legends, etc. We will also showcase some interactivity: **people love being able to click on things!**\n",
    "\n",
    "Last, this notebook also includes a discussion and code on live-quering a backend with D3 and AJAX."
   ]
  },
  {
   "cell_type": "markdown",
   "metadata": {
    "deletable": true,
    "editable": true
   },
   "source": [
    "### Dataset and plan\n",
    "One of the collaborators of this notebook loves Baltimore (his hometown) and public transit, so we'll be combining these two interests via [Baltimore's open datasets](https://data.baltimorecity.gov). In particular, we'll look at the [Charm City Circulator](https://en.wikipedia.org/wiki/Charm_City_Circulator), a free bus initiative for downtown Baltimore launched in 2010. \n",
    "\n",
    "- First, we'll take a look at the headways data, and after some basic aggregation we'll take a look at a plot of headways data vs. ridership numbers on a per-day basis.\n",
    "- Next, we will use [D3](https://d3js.org/) to look at some basic vital signs. How many people ride daily? How full is each bus? For a very rough comparison, Maryland's MTA averages ~400,000 riders/weekday as of 2012.\n",
    "- D3 is incredibly flexible but too primitive.  We'll use [NVD3](https://github.com/novus/nvd3) to simplify our plotting.\n",
    "- We'll move on to breaking down ridership by weekday vs. weekend and line (unfortunately the released data does not get much more granular than this). Maybe we'll be able to spot useful trends, such as who is riding the bus (e.g. commuters vs. tourists - downtown buses like these could reasonably service both)."
   ]
  },
  {
   "cell_type": "code",
   "execution_count": null,
   "metadata": {
    "collapsed": true,
    "deletable": true,
    "editable": true
   },
   "outputs": [],
   "source": [
    "# do some data science\n",
    "import pandas as pd\n",
    "\n",
    "# data described/found here\n",
    "# https://data.baltimorecity.gov/browse?category=Transportation&limitTo=datasets&utf8=%E2%9C%93\n",
    "with open(\"small_data/Charm_City_Circulator_Headways.csv\") as fh:\n",
    "    headways = pd.read_csv(fh)\n",
    "    headways['date'] = pd.to_datetime(headways['date'])\n",
    "\n",
    "with open(\"small_data/Charm_City_Circulator_Ridership.csv\") as fh:\n",
    "    ridership = pd.read_csv(fh)\n",
    "    ridership['date'] = pd.to_datetime(ridership['date'])\n",
    "\n",
    "ridership_averages_by_weekday = (\n",
    "    ridership[\n",
    "        ['day', 'orangeAverage', 'purpleAverage', 'greenAverage']\n",
    "    ].groupby('day', sort=True).mean()) # get excited for lots of chaining in D3\n",
    "\n",
    "ridership_averages_by_year = ridership[['orangeAverage', 'purpleAverage', 'greenAverage']]"
   ]
  },
  {
   "cell_type": "code",
   "execution_count": null,
   "metadata": {
    "collapsed": false,
    "deletable": true,
    "editable": true
   },
   "outputs": [],
   "source": [
    "ridership_averages_by_year.loc[:,'year'] = ridership['date'].dt.year"
   ]
  },
  {
   "cell_type": "code",
   "execution_count": null,
   "metadata": {
    "collapsed": true,
    "deletable": true,
    "editable": true
   },
   "outputs": [],
   "source": [
    "ridership_averages_by_year = ridership_averages_by_year.groupby('year')\\\n",
    "                                                       .mean()\n",
    "def timeToFloat(timeString):\n",
    "    try:\n",
    "        minutes, seconds = timeString.split(\":\")\n",
    "    except:\n",
    "        return None\n",
    "    return float(minutes) + float(seconds)/60."
   ]
  },
  {
   "cell_type": "code",
   "execution_count": null,
   "metadata": {
    "collapsed": false,
    "deletable": true,
    "editable": true
   },
   "outputs": [],
   "source": [
    "headways_averages = headways[['day', 'date', 'orangeHeadway', 'purpleHeadway', 'greenHeadway']]\n",
    "ridership_averages = ridership[['day', 'date', 'orangeAverage', 'purpleAverage', 'greenAverage']]\n",
    "merged = headways_averages.merge(ridership_averages)\n",
    "merged['purpleHeadway'] = merged['purpleHeadway'].apply(timeToFloat)\n",
    "merged_json = merged.to_json()\n",
    "ridership_averages_by_year"
   ]
  },
  {
   "cell_type": "markdown",
   "metadata": {
    "deletable": true,
    "editable": true
   },
   "source": [
    "## A Straightforward Scatterplot in D3\n",
    "Cool, so we have some basic things to plot. Let's do some D3 now.\n",
    "\n",
    "First, let's convert the data from pandas' strange JSON format into an array of objects, 1 per data point, with the expected attributes (what D3 [expects](https://github.com/mbostock/d3/wiki/Selections#data)):"
   ]
  },
  {
   "cell_type": "code",
   "execution_count": null,
   "metadata": {
    "collapsed": false,
    "deletable": true,
    "editable": true
   },
   "outputs": [],
   "source": [
    "# import ihtml.py file for %%ihtml and %%jsdoc cell magic\n",
    "import ihtml"
   ]
  },
  {
   "cell_type": "code",
   "execution_count": null,
   "metadata": {
    "collapsed": false,
    "deletable": true,
    "editable": true
   },
   "outputs": [],
   "source": [
    "%%jsdoc plotData\n",
    "\n",
    "window.headwayVsRidership = {{ merged | json }};\n",
    "\n",
    "/*\n",
    " * As it turns out, pandas returns a dictionary with \n",
    " * the top-level keys as the column headers, and values\n",
    " * as the list of values under that column.\n",
    " */\n",
    "window.convertPlotData = function(data){\n",
    "  var convertedData = [];\n",
    "  // pandas gives each column the same number of\n",
    "  // objects, arbitrarily choose one to iterate over\n",
    "  for(var i in data[Object.keys(data)[0]]){\n",
    "    var convertedDatum = {};\n",
    "    for(var key in data){\n",
    "      convertedDatum[key] = data[key][i];\n",
    "    }\n",
    "    convertedData.push(convertedDatum);\n",
    "  }\n",
    "  return convertedData;\n",
    "}"
   ]
  },
  {
   "cell_type": "markdown",
   "metadata": {
    "deletable": true,
    "editable": true
   },
   "source": [
    "Next, let's build a basic D3 scatter plot skeleton.\n",
    "\n",
    "On the x-axis we'll plot the average headway that day, and on the y-axis we'll plot the average number of riders that day.\n",
    "\n",
    "D3 works on 'method-chaining', much like pandas or jQuery, so each function call returns another object that we can operate on. For example, in the code below, when we call `d3.select(#chart1)`, the `select` function returns a D3-ified version of the JS object representing the `chart1` div we appended.\n",
    "\n",
    "What makes D3 unique is the idea that _data_ is bound to _DOM Elements_ in a data binding step that we'll see below. This elegant abstraction means we can bind our data to any HTML elements we want and visualize them basically however we want to.\n",
    "\n",
    "For our visualization, we'll use [SVG](https://developer.mozilla.org/en-US/docs/Web/SVG), which allows for relatively easy drawing of elements on a 2-dimensional canvas."
   ]
  },
  {
   "cell_type": "code",
   "execution_count": null,
   "metadata": {
    "collapsed": true,
    "deletable": true,
    "editable": true
   },
   "outputs": [],
   "source": [
    "%%jsdoc chart1\n",
    "\n",
    "window.Chart = function(d3, data, name) {\n",
    "  var selector = \"#\" + name;\n",
    "  this.data = data;\n",
    "\n",
    "  // the first thing we want to do is set up our viewport\n",
    "  var containerWidth = 764;   // 780 approx width - 16 body margin\n",
    "  var containerHeight = 504;  // 520 height - 16 body margin\n",
    "  $(selector).width(containerWidth + \"px\");\n",
    "  $(selector).height(containerHeight + \"px\");\n",
    "\n",
    "  var margin = {top: 20, right: 20, bottom: 20, left: 60};\n",
    "  this.width = containerWidth - margin.left - margin.right;\n",
    "  this.height = containerHeight - margin.top - margin.bottom;\n",
    "  this.svg = d3.select(selector).append(\"svg\")\n",
    "    .style(\"position\", \"relative\")\n",
    "    .attr(\"width\", containerWidth + \"px\")\n",
    "    .attr(\"height\", containerHeight + \"px\")\n",
    "    .append(\"g\") // D3 returns us this 'g' element, it will be our main canvas\n",
    "    .attr(\"transform\", \"translate(\" + margin.left + \",\" + margin.top + \")\"); // axes will go in margins\n",
    "    \n",
    "  // D3 likes passing functions around, making these useful\n",
    "  this.xVals = function(d){return d.purpleHeadway;};\n",
    "  this.yVals = function(d){return d.purpleAverage;};\n",
    "\n",
    "  // set the min/max values of our axes\n",
    "  // the 1 is for a bit of padding\n",
    "  this.xScale = d3.scale.linear()\n",
    "    .range([0, this.width])\n",
    "    .domain([d3.min(this.data, this.xVals)-1, d3.max(this.data, this.xVals)+1]);\n",
    "  this.xMap = _.compose(this.xScale, this.xVals);\n",
    "\n",
    "  // same thing for y axis\n",
    "  this.yScale = d3.scale.linear()\n",
    "    .range([this.height, 0])\n",
    "    .domain([d3.min(this.data, this.yVals)-1, d3.max(this.data, this.yVals)+1]);\n",
    "  this.yMap = _.compose(this.yScale, this.yVals);\n",
    "};"
   ]
  },
  {
   "cell_type": "code",
   "execution_count": null,
   "metadata": {
    "collapsed": false,
    "deletable": true,
    "editable": true
   },
   "outputs": [],
   "source": [
    "%%ihtml 520\n",
    "<html>\n",
    "    <head>\n",
    "        <script src=\"https://code.jquery.com/jquery-3.1.0.js\"></script>\n",
    "        <script src=\"https://cdnjs.cloudflare.com/ajax/libs/d3/3.5.6/d3.min.js\"></script>\n",
    "        <script src=\"https://cdnjs.cloudflare.com/ajax/libs/underscore.js/1.8.3/underscore-min.js\"></script>\n",
    "        {{ plotData | jsdoc }}\n",
    "        {{ chart1 | jsdoc }}\n",
    "        <script>\n",
    "$(document).ready(function() {\n",
    "  var data = window.convertPlotData(window.headwayVsRidership);\n",
    "  var chart = new window.Chart(d3, data, \"chart1\");\n",
    "\n",
    "  // this is the core 'D3' step\n",
    "  chart.svg.selectAll(\".dot\") // note this begins as empty selection\n",
    "    .data(chart.data) // data-binding step! this selection is now bound to the elements in our data array\n",
    "    .enter() // new node for each datum not in selection\n",
    "    .append(\"circle\") // 1 for each new node\n",
    "    .attr(\"class\", \"dot\")\n",
    "    .attr(\"r\", 3.5) // radius\n",
    "    .attr(\"cx\", chart.xMap) // x position\n",
    "    .attr(\"cy\", chart.yMap) // y position: position 0 is top, (500 - margin) is bottom\n",
    "});\n",
    "        </script>\n",
    "    </head>\n",
    "    <body>\n",
    "        <div id=\"chart1\"></div>\n",
    "    </body>\n",
    "</html>"
   ]
  },
  {
   "cell_type": "markdown",
   "metadata": {
    "deletable": true,
    "editable": true
   },
   "source": [
    "### So, what just happened?\n",
    "Let's dive a little farther down the rabbit hole. \n",
    "\n",
    "If you examine the code, it becomes apparent that \n",
    "\n",
    "```javascript\n",
    " svg.selectAll(el)\n",
    "   .data(data)\n",
    "```\n",
    "\n",
    "was the snippet of code that actually created the visualization. D3 works on a *data-binding* model, which means that you attach the data to an element (in particular `el` is an SVG window in this case), and D3 works its magic by creating an HTML object for every element in that dataset. \n",
    "\n",
    "- Step 1 in the binding is to select the HTML elements that will represent our data points\n",
    "- Step 2 is to actually bind the data \n",
    "- Step 3, the functions after `data` is called, actually create, style, and position the elements that D3 will create based on the newly-bound data"
   ]
  },
  {
   "cell_type": "markdown",
   "metadata": {
    "deletable": true,
    "editable": true
   },
   "source": [
    "## Customization: Axes\n",
    "\n",
    "Now, we want to prettify this basic plot with axes, make it a bit more interactive, and so on. Moreover, D3 has several convenience functions we can use so we don't have to, for example, make/scale our own axes or data points on the plot."
   ]
  },
  {
   "cell_type": "code",
   "execution_count": null,
   "metadata": {
    "collapsed": true,
    "deletable": true,
    "editable": true
   },
   "outputs": [],
   "source": [
    "%%jsdoc chart2\n",
    "\n",
    "window.ChartAxes = function(d3, data, name) {\n",
    "  window.Chart.call(this, d3, data, name);\n",
    "    \n",
    "  // d3 also has an axis convenience function, and \n",
    "  // it even lets us pass our scale in to generate ticks\n",
    "    \n",
    "  this.xAxis = d3.svg.axis().scale(this.xScale).orient(\"bottom\");\n",
    "  this.yAxis = d3.svg.axis().scale(this.yScale).orient(\"left\");\n",
    "    \n",
    "  // x-axis\n",
    "  this.svg.append(\"g\")\n",
    "      .attr(\"class\", \"x axis\")\n",
    "      .attr(\"transform\", \"translate(0,\" + this.height + \")\") // slide it to bottom\n",
    "      .call(this.xAxis) // this is a d3 idiom for SVG generation\n",
    "      .append(\"text\") // and we want to set a label\n",
    "      .attr(\"class\", \"label\")\n",
    "      .attr(\"x\", this.width)\n",
    "      .attr(\"y\", -15)\n",
    "      .style(\"text-anchor\", \"end\")\n",
    "      .text(\"Average Headway\");\n",
    "\n",
    "  // y-axis\n",
    "  this.svg.append(\"g\")\n",
    "      .attr(\"class\", \"y axis\")\n",
    "      .call(this.yAxis)\n",
    "      .append(\"text\")\n",
    "      .attr(\"class\", \"label\")\n",
    "      .attr(\"transform\", \"rotate(-90)\") // so text is vertical\n",
    "      .attr(\"y\", 0)\n",
    "      .attr(\"dy\", \"1em\")\n",
    "      .style(\"text-anchor\", \"end\")\n",
    "      .text(\"Average Riders\");\n",
    "}"
   ]
  },
  {
   "cell_type": "code",
   "execution_count": null,
   "metadata": {
    "collapsed": false,
    "deletable": true,
    "editable": true
   },
   "outputs": [],
   "source": [
    "%%ihtml 520\n",
    "<html>\n",
    "    <head>\n",
    "        <script src=\"https://code.jquery.com/jquery-3.1.0.js\"></script>\n",
    "        <script src=\"https://cdnjs.cloudflare.com/ajax/libs/d3/3.5.6/d3.min.js\"></script>\n",
    "        <script src=\"https://cdnjs.cloudflare.com/ajax/libs/underscore.js/1.8.3/underscore-min.js\"></script>\n",
    "        {{ plotData | jsdoc }}\n",
    "        {{ chart1 | jsdoc }}\n",
    "        {{ chart2 | jsdoc }}\n",
    "        <script>\n",
    "$(document).ready(function() {\n",
    "  var data = window.convertPlotData(window.headwayVsRidership);\n",
    "  var chart = new window.ChartAxes(d3, data, \"chart2\");\n",
    "\n",
    "  chart.svg.selectAll(\".dot\")\n",
    "    .data(chart.data)\n",
    "    .enter()\n",
    "    .append(\"circle\") \n",
    "    .attr(\"class\", \"dot\")\n",
    "    .attr(\"r\", 3.5)\n",
    "    .attr(\"cx\", chart.xMap) \n",
    "    .attr(\"cy\", chart.yMap);\n",
    "});\n",
    "        </script>\n",
    "    </head>\n",
    "    <body>\n",
    "        <div id=\"chart2\"></div>\n",
    "    </body>\n",
    "</html>"
   ]
  },
  {
   "cell_type": "markdown",
   "metadata": {
    "deletable": true,
    "editable": true
   },
   "source": [
    "## Customization: Coloring Datapoints\n",
    "\n",
    "So this is a very basic, passable graph. However, it's not much better than something we could do in matplotlib. Let's add some interactivity, labeling, and color the dots to make differentiating weekdays/weekends easy."
   ]
  },
  {
   "cell_type": "code",
   "execution_count": null,
   "metadata": {
    "collapsed": true,
    "deletable": true,
    "editable": true
   },
   "outputs": [],
   "source": [
    "%%jsdoc chart3\n",
    "\n",
    "window.ChartAxesColor = function(d3, data, name) {\n",
    "  window.ChartAxes.call(this, d3, data, name);\n",
    "    \n",
    "  // NEW: Coloring. We now color the graph, based on \n",
    "  // whether it's a weekend or weekday.\n",
    "  // As with our other scaling, we determine the color\n",
    "  // on a per-datum basis and let D3 do much of the heavy lifting.\n",
    "  this.cValue = function(d) {\n",
    "    return (d.day == \"Saturday\" || d.day == \"Sunday\") ? \"Weekend\" : \"Weekday\";\n",
    "  };\n",
    "  this.color = d3.scale.category10(); //we'll now call this during our graph construction\n",
    "    \n",
    "  // NEW: TOOLTIP. \n",
    "  this.tooltip = d3.select(\"body\").append(\"div\")\n",
    "    .attr(\"class\", \"tooltip\")\n",
    "    .style(\"opacity\", 0)\n",
    "    .style(\"background-color\", \"white\");\n",
    "}\n",
    "\n",
    "window.ChartAxesColor.prototype.addLegend = function() {\n",
    "  // NEW: Legend\n",
    "  // Adding a legend has to be a function because it has to happen \n",
    "  // after the values of `this.color.domain()` are set\n",
    "  var legend = this.svg.selectAll(\".legend\")\n",
    "      .data(this.color.domain()) //stores the color <-> label mappings\n",
    "      .enter().append(\"g\")\n",
    "      .attr(\"class\", \"legend\")\n",
    "      .attr(\"transform\", function(d, i) { return \"translate(0,\" + i * 20 + \")\"; });\n",
    "\n",
    "  // draw legend colored rectangles\n",
    "  legend.append(\"rect\")\n",
    "      .attr(\"x\", this.width - 60)\n",
    "      .attr(\"width\", 18)\n",
    "      .attr(\"height\", 18)\n",
    "      .style(\"fill\", this.color);\n",
    "\n",
    "  // draw legend text\n",
    "  legend.append(\"text\")\n",
    "      .attr(\"x\", this.width - 70)\n",
    "      .attr(\"y\", 9)\n",
    "      .attr(\"dy\", \".35em\")\n",
    "      .style(\"text-anchor\", \"end\")\n",
    "      .text(function(d) { return d;})\n",
    "}"
   ]
  },
  {
   "cell_type": "code",
   "execution_count": null,
   "metadata": {
    "collapsed": false,
    "deletable": true,
    "editable": true
   },
   "outputs": [],
   "source": [
    "%%ihtml 520\n",
    "<html>\n",
    "    <head>\n",
    "        <script src=\"https://code.jquery.com/jquery-3.1.0.js\"></script>\n",
    "        <script src=\"https://cdnjs.cloudflare.com/ajax/libs/d3/3.5.6/d3.min.js\"></script>\n",
    "        <script src=\"https://cdnjs.cloudflare.com/ajax/libs/underscore.js/1.8.3/underscore-min.js\"></script>\n",
    "        {{ plotData | jsdoc }}\n",
    "        {{ chart1 | jsdoc }}\n",
    "        {{ chart2 | jsdoc }}\n",
    "        {{ chart3 | jsdoc }}\n",
    "        <script>\n",
    "$(document).ready(function() {\n",
    "  var data = window.convertPlotData(window.headwayVsRidership);\n",
    "  var chart = new window.ChartAxesColor(d3, data, \"chart3\");\n",
    "\n",
    "  chart.svg.selectAll(\".dot\")\n",
    "     .data(chart.data)\n",
    "     .enter().append(\"circle\")\n",
    "     .attr(\"class\", \"dot\")\n",
    "     .attr(\"r\", 3.5)\n",
    "     .attr(\"cx\", chart.xMap)\n",
    "     .attr(\"cy\", chart.yMap)\n",
    "     .style(\"fill\", function(d) { return chart.color(chart.cValue(d));}) //D3 does the magic! \n",
    "     .on(\"mouseover\", function(d) { //much like jquery, an event listener\n",
    "         chart.tooltip.transition()\n",
    "                .duration(200)\n",
    "                .style(\"opacity\", .9);\n",
    "         chart.tooltip.html(d[\"day\"] + \" : \" + d['date'])\n",
    "               .style(\"left\", (d3.event.pageX + 5) + \"px\")\n",
    "               .style(\"top\", (d3.event.pageY - 28) + \"px\");\n",
    "      })\n",
    "      .on(\"mouseout\", function(d) {\n",
    "          chart.tooltip.transition()\n",
    "               .duration(500)\n",
    "               .style(\"opacity\", 0);\n",
    "      });\n",
    "\n",
    "  chart.addLegend();\n",
    "});\n",
    "        </script>\n",
    "        <style>\n",
    "            .tooltip {\n",
    "                position: absolute;\n",
    "            }\n",
    "        </style>\n",
    "    </head>\n",
    "    <body>\n",
    "        <div id=\"chart3\"></div>\n",
    "    </body>\n",
    "</html>"
   ]
  },
  {
   "cell_type": "markdown",
   "metadata": {
    "deletable": true,
    "editable": true
   },
   "source": [
    "## Easier D3 with NVD3\n",
    "\n",
    "As it turns out, D3, while very extensible, takes a lot of work to use on its own, and we present it in a separate notebook. As good engineers, we're all about [looking for external libraries](https://www.google.com/webhp?&q=d3.js%20charts) when we want to do things better and more quickly. [NVD3](https://github.com/novus/nvd3) looks like a good candidate."
   ]
  },
  {
   "cell_type": "code",
   "execution_count": null,
   "metadata": {
    "collapsed": true,
    "deletable": true,
    "editable": true
   },
   "outputs": [],
   "source": [
    "%%jsdoc nvd3\n",
    "\n",
    "window.averageByYear = {{ ridership_averages_by_year | json }}\n",
    "window.averageByWeekday = {{ ridership_averages_by_weekday | json }}\n",
    "\n",
    "// again this function was created just by inspecting\n",
    "// the data format in the example, no substantive knowledge of D3 required\n",
    "window.convertKeys = function(pandasJSON, keyOrder){\n",
    "  var data = [];\n",
    "  Object.keys(pandasJSON).forEach(function(key){\n",
    "    var retObj = {};\n",
    "    retObj['key'] = key;\n",
    "    retObj['values'] = [];\n",
    "    var color = key.substring(0, key.indexOf(\"A\"));\n",
    "    retObj['color'] = color;\n",
    "    var order = Object.keys(pandasJSON[key]);\n",
    "    if(keyOrder){\n",
    "      order = keyOrder;\n",
    "    }\n",
    "    order.forEach(function(j){\n",
    "      var innerObj = {};\n",
    "      innerObj['x'] = j;\n",
    "      innerObj['y'] = pandasJSON[key][j];\n",
    "      retObj['values'].push(innerObj);\n",
    "    });\n",
    "    data.push(retObj);\n",
    "  });\n",
    "  return data;\n",
    "};\n",
    "\n",
    "window.WEEKDAYS_IN_ORDER = [\n",
    "  \"Monday\",\n",
    "  \"Tuesday\",\n",
    "  \"Wednesday\",\n",
    "  \"Thursday\",\n",
    "  \"Friday\",\n",
    "  \"Saturday\",\n",
    "  \"Sunday\"\n",
    "]\n",
    "\n",
    "window.genGraph = function(data, el){\n",
    "  return function() {\n",
    "    var chart = nv.models.multiBarChart()\n",
    "      .reduceXTicks(true)   // If 'false', every single x-axis tick label will be rendered.\n",
    "      .rotateLabels(0)      // Angle to rotate x-axis labels.\n",
    "      .showControls(true)   // Allow user to switch between 'Grouped' and 'Stacked' mode.\n",
    "      .groupSpacing(0.1)    // Distance between each group of bars.\n",
    "      .color(function(d, i) { // set color. fancy\n",
    "        return d['color'];\n",
    "      });\n",
    "\n",
    "    chart.yAxis\n",
    "      .tickFormat(d3.format(',.0f'));\n",
    "\n",
    "    d3.select(el)\n",
    "      .datum(data)\n",
    "      .call(chart);\n",
    "\n",
    "    nv.utils.windowResize(chart.update);\n",
    "\n",
    "    return chart;\n",
    "  }\n",
    "};\n",
    "\n",
    "$(document).ready(function() {\n",
    "  // generate data from pandas json into d3 format (done by copying the example)\n",
    "  var chart1data = window.convertKeys(window.averageByYear);\n",
    "  var chart2data = window.convertKeys(window.averageByWeekday, window.WEEKDAYS_IN_ORDER);\n",
    "\n",
    "  nv.addGraph(window.genGraph(chart1data, \"#chart1 svg\"));\n",
    "  nv.addGraph(window.genGraph(chart2data, \"#chart2 svg\"));\n",
    "});"
   ]
  },
  {
   "cell_type": "code",
   "execution_count": null,
   "metadata": {
    "collapsed": true,
    "deletable": true,
    "editable": true
   },
   "outputs": [],
   "source": [
    "%%jsdoc plotData\n",
    "\n",
    "window.headwayVsRidership = {{ merged | json }};\n",
    "\n",
    "/*\n",
    " * As it turns out, pandas returns a dictionary with \n",
    " * the top-level keys as the column headers, and values\n",
    " * as the list of values under that column.\n",
    " */\n",
    "window.convertPlotData = function(data){\n",
    "  var convertedData = [];\n",
    "  // pandas gives each column the same number of\n",
    "  // objects, arbitrarily choose one to iterate over\n",
    "  for(var i in data[Object.keys(data)[0]]){\n",
    "    var convertedDatum = {};\n",
    "    for(var key in data){\n",
    "      convertedDatum[key] = data[key][i];\n",
    "    }\n",
    "    convertedData.push(convertedDatum);\n",
    "  }\n",
    "  return convertedData;\n",
    "}"
   ]
  },
  {
   "cell_type": "code",
   "execution_count": null,
   "metadata": {
    "collapsed": false,
    "deletable": true,
    "editable": true
   },
   "outputs": [],
   "source": [
    "%%ihtml 1050\n",
    "<html>\n",
    "    <head>\n",
    "        <script src=\"https://code.jquery.com/jquery-3.1.0.js\"></script>\n",
    "        <script src=\"https://cdnjs.cloudflare.com/ajax/libs/d3/3.5.6/d3.min.js\"></script>\n",
    "        <script src=\"https://cdnjs.cloudflare.com/ajax/libs/nvd3/1.7.0/nv.d3.min.js\"></script>\n",
    "        {{ nvd3 | jsdoc }}\n",
    "        <link id='nvd3style' rel='stylesheet' type='text/css' href='https://cdn.rawgit.com/novus/nvd3/v1.8.1/build/nv.d3.css'/>\n",
    "    </head>\n",
    "    <body>\n",
    "        <div id=\"chart1\" style=\"height: 500px\"><svg></svg></div>\n",
    "        <div id=\"chart2\" style=\"height: 500px\"><svg></svg></div>\n",
    "    </body>\n",
    "</html>"
   ]
  },
  {
   "cell_type": "markdown",
   "metadata": {
    "deletable": true,
    "editable": true
   },
   "source": [
    "## Summary\n",
    "\n",
    "Aside from just generally being prettier than the equivalent matplotlib/seaborn graph, this bar chart is interactive - and who doesn't love interactive graphs. We've also answered a variety of the questions we set out to:\n",
    "\n",
    "- Stacking the yearly graph shows us an upward trend in overall ridership, and side-by-side shows us that this trend holds true across all 3 lines.\n",
    "- We can stack the 'riders by weekday' graph to see somewhere between 9-10,000 people ride on the average day. For a system with ~20 buses and 3 lines, this isn't bad at all.\n",
    "- We can side-by-side the 'riders by weekday' graph to see that the purple line is the most popular. Within Baltimore's geography, this makes sense as that bus travels through some of the city's most populated areas.\n",
    "- Each line receives its highest ridership on Friday and sees minor drops on the weekend - which may indicate the system is popular among both tourists and commuters, but primarily functions as a commuter bus.\n",
    "\n",
    "And we determined this with just a few minutes of Googling and wrestling with D3! Notably, there's substantially less code if you _don't_ do this in IPython notebook.\n",
    "\n",
    "A brief note on the data-binding: We used `datum` instead of `data` here. This is NVD3 magic, and is based on some predefined keys that are expected in each element of the data array (note the `x` and `y` conversion we did in `convertKeys`). "
   ]
  },
  {
   "cell_type": "code",
   "execution_count": null,
   "metadata": {
    "collapsed": true,
    "deletable": true,
    "editable": true
   },
   "outputs": [],
   "source": []
  },
  {
   "cell_type": "markdown",
   "metadata": {
    "deletable": true,
    "editable": true
   },
   "source": [
    "## Integrate angular.js with D3 for a cool interactive bar chart\n",
    "\n",
    "The last graph in our first D3 notebook was static. Here, we're going to now show off the interactive power of D3 by combining it with angular, which is another JavaScript library.  Check out [Baby Name Popularity](projects/babyname/name_popularity.html).  \n",
    "\n",
    "On the HTML side, we have introduced funny new attributes (called directives) with names that start with `ng`, e.g. `ng-repeat`, `ng-model`, `ng-click`.  These bind the specific HTML elements with JavaScript code.  On the JavaScript side, almost everything happens inside the controller `function NamesCtrl($scope)`.  You can think of the object `$scope` as representing all the variables and methods associated with this controller.\n",
    "\n",
    "Below are a few features that you can play with which automatically update the graph:\n",
    "\n",
    "<table style=\"width:100%\">\n",
    "<col width=\"60%\">\n",
    "<col width=\"40%\">\n",
    "<tr><th>\n",
    "    These elements in HTML augmented with angular directives\n",
    "</th>\n",
    "<th>\n",
    "    Call these functions in JavaScript\n",
    "</th></tr>\n",
    "\n",
    "<tr><td>\n",
    "```\n",
    "<div id=\"nameCtrl\" ng-controller=\"NamesCtrl\">\n",
    "    ...\n",
    "</div>\n",
    "```\n",
    "</td><td>\n",
    "Associates all the code in this element (and sub-elements) with `function NamesCtrl($scope)`\n",
    "</td></tr>\n",
    "\n",
    "<tr><td>\n",
    "```\n",
    "<form ng-submit=\"addName()\">\n",
    "  <input type=\"text\" ng-model=\"newName\"\n",
    "         placeholder=\"name to add\">\n",
    "  <input class=\"btn-primary\" type=\"submit\"\n",
    "         value=\"add\">\n",
    "</form>```\n",
    "</td><td>\n",
    "This form calls `$scope.addName()` which adds values to `$scope.names`\n",
    "</td></tr>\n",
    "\n",
    "<tr><td>\n",
    "`<input class=\"btn-primary\" type=\"submit\"\n",
    "       ng-click=\"clearNames()\" value=\"clear\">`\n",
    "</td><td>\n",
    "Clears the names by calling `$scope.clearNames()`\n",
    "</td></tr>\n",
    "\n",
    "<tr><td>\n",
    "`<ul class=\"unstyled\">\n",
    "  <li ng-repeat=\"name in names\">\n",
    "      ...\n",
    "  </li>\n",
    "</ul>`\n",
    "</td><td>\n",
    "The `ng-repeat=\"name in names\"` directive creates a repeated list of `<li></li>` html elements which are each bound to `name`\n",
    "</td></tr>\n",
    "\n",
    "<tr><td>\n",
    "`<input type=\"checkbox\"\n",
    "       ng-change=\"render()\"\n",
    "       ng-model=\"name.show\">`\n",
    "</td><td>\n",
    "When the checkbox is clicked, the render function is called: `$scope.render()`.\n",
    "This binds the checkbox to the model `name.show`\n",
    "</td></tr>\n",
    "\n",
    "<tr><td>\n",
    "`<span>{{ name.name }}</span>`\n",
    "</td><td>\n",
    "The name in the span is bound to `name.name`\n",
    "</td></tr>\n",
    "\n",
    "</table>\n",
    "\n",
    "The above code is all `angular code` that binds the user interface specifying which names to display with the JavaScript object `$scope.name`.\n",
    "\n",
    "Our render function `$scope.render` is quite similar to that of the previous example except that it is inside the Controller (to get access to `$scope.names`) and has to filter for the names that we actually want to display data for, which is saved in `filteredData`:\n",
    "\n",
    "```javascript\n",
    "var filteredData = _.filter(scope.myData, function(d) {\n",
    "    var activeNames = _.chain($scope.names)\n",
    "            .filter(function(n) { return n.show; })\n",
    "            .map(function(n) { return n.name; })\n",
    "            .value();\n",
    "    return _.contains(activeNames, d.label);\n",
    "})\n",
    "```\n",
    "\n",
    "\n",
    "For more information, read a bit about [angular](https://angularjs.org), or more specifically look at this example of a [Todo List](https://angularjs.org/#add-some-control), which is what this example is patterned off of."
   ]
  },
  {
   "cell_type": "code",
   "execution_count": null,
   "metadata": {
    "collapsed": true,
    "deletable": true,
    "editable": true
   },
   "outputs": [],
   "source": []
  },
  {
   "cell_type": "markdown",
   "metadata": {
    "deletable": true,
    "editable": true
   },
   "source": [
    "## On the web - live-query a backend\n",
    "\n",
    "One of the more powerful aspects of web-based/interactive visualizations is the ability to query and render data in realtime. This allows us to, in some contexts, live-query for some subset of the data and effectively downsample this way.\n",
    "\n",
    "- On the web, we always have to think about server -> client bandwidth considerations. \n",
    "- Remember, end-users don't necessarily have modern, powerful computers.\n",
    "- Always assume the worst (the visualization equivalent of the UI/UX adage \"assume the user is drunk\")\n",
    "\n"
   ]
  },
  {
   "cell_type": "markdown",
   "metadata": {
    "deletable": true,
    "editable": true
   },
   "source": [
    "## Do it in Python: the Bokeh Server\n",
    "One of Bokeh's most powerful abstractions is the Bokeh Server, which lets you run a visualization server in the background that can live-query, process, filter, and compute visualizations using your more powerful backend infrastructure. For example, you might wish to let a user live-query site log data, or hit information, over varying timespans.\n",
    "\n",
    "Check out the [Bokeh Gallery](http://bokeh.pydata.org/en/latest/docs/gallery.html#gallery) for some inspiration, and the [Bokeh Docs](http://bokeh.pydata.org/en/0.11.0/docs/user_guide/server.html) explain how the update functionality/synchronization works.\n",
    "\n",
    "Under the hood, Bokeh is doing the same AJAX magic as the D3 example below, but you don't have to concern yourself as much with the details.\n",
    "\n",
    "If you want to play around with the Bokeh server on Heroku, it does work! [With some fiddling](https://github.com/birdsarah/bokeh-server-heroku)."
   ]
  },
  {
   "cell_type": "markdown",
   "metadata": {
    "deletable": true,
    "editable": true
   },
   "source": [
    "## Do it on the Web: D3.js and AJAX calls.\n",
    "\n",
    "AJAX (advanced Javascript and XML) is a powerful web paradigm that allows for asynchronous calls between a backend server and a frontend browser. \n",
    "\n",
    "For example, if you're running code in Jupyter notebooks, you're using AJAX to \n",
    "\n",
    "1. send your code to the backend Jupyter server.\n",
    "2. receive the output after the Jupyter server executes your code.\n",
    "\n",
    "In the context of visualization, this allows us to live-query some subset of view of the data, process appropriately on the backend, and simply render on the frontend. Here's an example for the bus heatmap miniproject:\n",
    "\n",
    "### JS (frontend)\n",
    "```javascript\n",
    "//NOTE: requires the underscore.js library\n",
    "//NOTE: this code will slam the backend with requests because it has no delay.\n",
    "// It's simply meant to showcase some asynchronous code that loops over small intervals.\n",
    "// We could use the setTimeout function in javascript to delay this code.\n",
    "\n",
    "_.range(24).foreach(function(hours){\n",
    "    _.range(0, 60, 15).foreach(function(minutes){\n",
    "        // use AJAX to query bus positions at \n",
    "        var swipes = d3.csv(\"/positions_at_time.csv?hours=\" + hours + '&minutes=' + minutes)\n",
    "        .get(function(error, rows){\n",
    "          var points = rows.map(function(r){\n",
    "            return  [\n",
    "              +r.latitude,\n",
    "              +r.longitude,\n",
    "            ];\n",
    "        });\n",
    "    });\n",
    "});\n",
    "```\n",
    "\n",
    "### Python (backend)\n",
    "```python\n",
    "# NOTE: code here written for Flask framework\n",
    "@app.route('/positions_at_time.csv')\n",
    "def positions_at_time():\n",
    "  hours = int(request.args.get('hours', 12))\n",
    "  minutes = int(request.args.get('minutes', 30))\n",
    "  \n",
    "  #could easily make this parameter modifiable\n",
    "  date_for_data = datetime.date(2015, 9, 17)\n",
    "  \n",
    "  time_for_data = datetime.time(hours, minutes)\n",
    "  \n",
    "  datetime_for_data = datetime.datetime.combine(date_for_data, time_for_data)\n",
    "  \n",
    "  #2 minute window\n",
    "  lower_bound = datetime_for_data - datetime.timedelta(seconds=60)\n",
    "  upper_bound = datetime_for_data + datetime.timedelta(seconds=60)\n",
    "\n",
    "  #JSON would work too, but CSV is actually better for D3\n",
    "  return archive[lower_bound:upper_bound].to_csv()\n",
    "\n",
    "\n",
    "```"
   ]
  },
  {
   "cell_type": "code",
   "execution_count": null,
   "metadata": {
    "collapsed": true,
    "deletable": true,
    "editable": true
   },
   "outputs": [],
   "source": []
  },
  {
   "cell_type": "code",
   "execution_count": null,
   "metadata": {
    "collapsed": true,
    "deletable": true,
    "editable": true
   },
   "outputs": [],
   "source": []
  },
  {
   "cell_type": "markdown",
   "metadata": {
    "deletable": true,
    "editable": true
   },
   "source": [
    "*Copyright &copy; 2016 The Data Incubator.  All rights reserved.*"
   ]
  }
 ],
 "metadata": {
  "kernelspec": {
   "display_name": "Python 2",
   "language": "python",
   "name": "python2"
  },
  "language_info": {
   "codemirror_mode": {
    "name": "ipython",
    "version": 2
   },
   "file_extension": ".py",
   "mimetype": "text/x-python",
   "name": "python",
   "nbconvert_exporter": "python",
   "pygments_lexer": "ipython2",
   "version": "2.7.13"
  }
 },
 "nbformat": 4,
 "nbformat_minor": 1
}
